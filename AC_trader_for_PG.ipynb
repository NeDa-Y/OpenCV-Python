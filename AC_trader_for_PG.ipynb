{
  "nbformat": 4,
  "nbformat_minor": 0,
  "metadata": {
    "colab": {
      "name": "AC trader for PG.ipynb",
      "provenance": [],
      "authorship_tag": "ABX9TyPf0Z1hCyJ1htN4MdwCQ68Z",
      "include_colab_link": true
    },
    "kernelspec": {
      "display_name": "Python 3",
      "name": "python3"
    }
  },
  "cells": [
    {
      "cell_type": "markdown",
      "metadata": {
        "id": "view-in-github",
        "colab_type": "text"
      },
      "source": [
        "<a href=\"https://colab.research.google.com/github/NeDa-Y/OpenCV-Python/blob/master/AC_trader_for_PG.ipynb\" target=\"_parent\"><img src=\"https://colab.research.google.com/assets/colab-badge.svg\" alt=\"Open In Colab\"/></a>"
      ]
    },
    {
      "cell_type": "markdown",
      "metadata": {
        "id": "nCbine-5pHJ-"
      },
      "source": [
        "Actor Critic for IBM\n"
      ]
    },
    {
      "cell_type": "code",
      "metadata": {
        "colab": {
          "base_uri": "https://localhost:8080/"
        },
        "id": "MyKjCh3doznm",
        "outputId": "939cbc54-064d-4c4a-ef7e-5c5d630274a1"
      },
      "source": [
        "import pkg_resources\n",
        "import pip\n",
        "installedPackages = {pkg.key for pkg in pkg_resources.working_set}\n",
        "required = {'yfinance', 'pandas', 'matplotlib', 'stockstats','stable-baselines','gym','tensorflow'}\n",
        "missing = required - installedPackages\n",
        "if missing:\n",
        "    !pip install yfinance\n",
        "    !pip install pandas\n",
        "    !pip install matplotlib\n",
        "    !pip install stockstats\n",
        "    !pip install gym\n",
        "    !pip install stable-baselines[mpi]\n",
        "    !pip install tensorflow==1.15.4\n"
      ],
      "execution_count": null,
      "outputs": [
        {
          "output_type": "stream",
          "text": [
            "Requirement already satisfied: yfinance in /usr/local/lib/python3.7/dist-packages (0.1.55)\n",
            "Requirement already satisfied: lxml>=4.5.1 in /usr/local/lib/python3.7/dist-packages (from yfinance) (4.6.2)\n",
            "Requirement already satisfied: requests>=2.20 in /usr/local/lib/python3.7/dist-packages (from yfinance) (2.23.0)\n",
            "Requirement already satisfied: numpy>=1.15 in /usr/local/lib/python3.7/dist-packages (from yfinance) (1.18.5)\n",
            "Requirement already satisfied: pandas>=0.24 in /usr/local/lib/python3.7/dist-packages (from yfinance) (1.1.5)\n",
            "Requirement already satisfied: multitasking>=0.0.7 in /usr/local/lib/python3.7/dist-packages (from yfinance) (0.0.9)\n",
            "Requirement already satisfied: idna<3,>=2.5 in /usr/local/lib/python3.7/dist-packages (from requests>=2.20->yfinance) (2.10)\n",
            "Requirement already satisfied: urllib3!=1.25.0,!=1.25.1,<1.26,>=1.21.1 in /usr/local/lib/python3.7/dist-packages (from requests>=2.20->yfinance) (1.24.3)\n",
            "Requirement already satisfied: certifi>=2017.4.17 in /usr/local/lib/python3.7/dist-packages (from requests>=2.20->yfinance) (2020.12.5)\n",
            "Requirement already satisfied: chardet<4,>=3.0.2 in /usr/local/lib/python3.7/dist-packages (from requests>=2.20->yfinance) (3.0.4)\n",
            "Requirement already satisfied: pytz>=2017.2 in /usr/local/lib/python3.7/dist-packages (from pandas>=0.24->yfinance) (2018.9)\n",
            "Requirement already satisfied: python-dateutil>=2.7.3 in /usr/local/lib/python3.7/dist-packages (from pandas>=0.24->yfinance) (2.8.1)\n",
            "Requirement already satisfied: six>=1.5 in /usr/local/lib/python3.7/dist-packages (from python-dateutil>=2.7.3->pandas>=0.24->yfinance) (1.15.0)\n",
            "Requirement already satisfied: pandas in /usr/local/lib/python3.7/dist-packages (1.1.5)\n",
            "Requirement already satisfied: pytz>=2017.2 in /usr/local/lib/python3.7/dist-packages (from pandas) (2018.9)\n",
            "Requirement already satisfied: numpy>=1.15.4 in /usr/local/lib/python3.7/dist-packages (from pandas) (1.18.5)\n",
            "Requirement already satisfied: python-dateutil>=2.7.3 in /usr/local/lib/python3.7/dist-packages (from pandas) (2.8.1)\n",
            "Requirement already satisfied: six>=1.5 in /usr/local/lib/python3.7/dist-packages (from python-dateutil>=2.7.3->pandas) (1.15.0)\n",
            "Requirement already satisfied: matplotlib in /usr/local/lib/python3.7/dist-packages (3.2.2)\n",
            "Requirement already satisfied: python-dateutil>=2.1 in /usr/local/lib/python3.7/dist-packages (from matplotlib) (2.8.1)\n",
            "Requirement already satisfied: cycler>=0.10 in /usr/local/lib/python3.7/dist-packages (from matplotlib) (0.10.0)\n",
            "Requirement already satisfied: kiwisolver>=1.0.1 in /usr/local/lib/python3.7/dist-packages (from matplotlib) (1.3.1)\n",
            "Requirement already satisfied: numpy>=1.11 in /usr/local/lib/python3.7/dist-packages (from matplotlib) (1.18.5)\n",
            "Requirement already satisfied: pyparsing!=2.0.4,!=2.1.2,!=2.1.6,>=2.0.1 in /usr/local/lib/python3.7/dist-packages (from matplotlib) (2.4.7)\n",
            "Requirement already satisfied: six>=1.5 in /usr/local/lib/python3.7/dist-packages (from python-dateutil>=2.1->matplotlib) (1.15.0)\n",
            "Requirement already satisfied: stockstats in /usr/local/lib/python3.7/dist-packages (0.3.2)\n",
            "Requirement already satisfied: pandas>=0.18.1 in /usr/local/lib/python3.7/dist-packages (from stockstats) (1.1.5)\n",
            "Requirement already satisfied: numpy>=1.9.2 in /usr/local/lib/python3.7/dist-packages (from stockstats) (1.18.5)\n",
            "Requirement already satisfied: int-date>=0.1.7 in /usr/local/lib/python3.7/dist-packages (from stockstats) (0.1.8)\n",
            "Requirement already satisfied: python-dateutil>=2.7.3 in /usr/local/lib/python3.7/dist-packages (from pandas>=0.18.1->stockstats) (2.8.1)\n",
            "Requirement already satisfied: pytz>=2017.2 in /usr/local/lib/python3.7/dist-packages (from pandas>=0.18.1->stockstats) (2018.9)\n",
            "Requirement already satisfied: six>=1.9.0 in /usr/local/lib/python3.7/dist-packages (from int-date>=0.1.7->stockstats) (1.15.0)\n",
            "Requirement already satisfied: gym in /usr/local/lib/python3.7/dist-packages (0.17.3)\n",
            "Requirement already satisfied: scipy in /usr/local/lib/python3.7/dist-packages (from gym) (1.4.1)\n",
            "Requirement already satisfied: pyglet<=1.5.0,>=1.4.0 in /usr/local/lib/python3.7/dist-packages (from gym) (1.5.0)\n",
            "Requirement already satisfied: numpy>=1.10.4 in /usr/local/lib/python3.7/dist-packages (from gym) (1.18.5)\n",
            "Requirement already satisfied: cloudpickle<1.7.0,>=1.2.0 in /usr/local/lib/python3.7/dist-packages (from gym) (1.3.0)\n",
            "Requirement already satisfied: future in /usr/local/lib/python3.7/dist-packages (from pyglet<=1.5.0,>=1.4.0->gym) (0.16.0)\n",
            "Requirement already satisfied: stable-baselines[mpi] in /usr/local/lib/python3.7/dist-packages (2.10.1)\n",
            "Requirement already satisfied: cloudpickle>=0.5.5 in /usr/local/lib/python3.7/dist-packages (from stable-baselines[mpi]) (1.3.0)\n",
            "Requirement already satisfied: numpy in /usr/local/lib/python3.7/dist-packages (from stable-baselines[mpi]) (1.18.5)\n",
            "Requirement already satisfied: opencv-python in /usr/local/lib/python3.7/dist-packages (from stable-baselines[mpi]) (4.1.2.30)\n",
            "Requirement already satisfied: scipy in /usr/local/lib/python3.7/dist-packages (from stable-baselines[mpi]) (1.4.1)\n",
            "Requirement already satisfied: joblib in /usr/local/lib/python3.7/dist-packages (from stable-baselines[mpi]) (1.0.1)\n",
            "Requirement already satisfied: pandas in /usr/local/lib/python3.7/dist-packages (from stable-baselines[mpi]) (1.1.5)\n",
            "Requirement already satisfied: matplotlib in /usr/local/lib/python3.7/dist-packages (from stable-baselines[mpi]) (3.2.2)\n",
            "Requirement already satisfied: gym[atari,classic_control]>=0.11 in /usr/local/lib/python3.7/dist-packages (from stable-baselines[mpi]) (0.17.3)\n",
            "Requirement already satisfied: mpi4py; extra == \"mpi\" in /usr/local/lib/python3.7/dist-packages (from stable-baselines[mpi]) (3.0.3)\n",
            "Requirement already satisfied: python-dateutil>=2.7.3 in /usr/local/lib/python3.7/dist-packages (from pandas->stable-baselines[mpi]) (2.8.1)\n",
            "Requirement already satisfied: pytz>=2017.2 in /usr/local/lib/python3.7/dist-packages (from pandas->stable-baselines[mpi]) (2018.9)\n",
            "Requirement already satisfied: pyparsing!=2.0.4,!=2.1.2,!=2.1.6,>=2.0.1 in /usr/local/lib/python3.7/dist-packages (from matplotlib->stable-baselines[mpi]) (2.4.7)\n",
            "Requirement already satisfied: cycler>=0.10 in /usr/local/lib/python3.7/dist-packages (from matplotlib->stable-baselines[mpi]) (0.10.0)\n",
            "Requirement already satisfied: kiwisolver>=1.0.1 in /usr/local/lib/python3.7/dist-packages (from matplotlib->stable-baselines[mpi]) (1.3.1)\n",
            "Requirement already satisfied: pyglet<=1.5.0,>=1.4.0 in /usr/local/lib/python3.7/dist-packages (from gym[atari,classic_control]>=0.11->stable-baselines[mpi]) (1.5.0)\n",
            "Requirement already satisfied: Pillow; extra == \"atari\" in /usr/local/lib/python3.7/dist-packages (from gym[atari,classic_control]>=0.11->stable-baselines[mpi]) (7.0.0)\n",
            "Requirement already satisfied: atari-py~=0.2.0; extra == \"atari\" in /usr/local/lib/python3.7/dist-packages (from gym[atari,classic_control]>=0.11->stable-baselines[mpi]) (0.2.6)\n",
            "Requirement already satisfied: six>=1.5 in /usr/local/lib/python3.7/dist-packages (from python-dateutil>=2.7.3->pandas->stable-baselines[mpi]) (1.15.0)\n",
            "Requirement already satisfied: future in /usr/local/lib/python3.7/dist-packages (from pyglet<=1.5.0,>=1.4.0->gym[atari,classic_control]>=0.11->stable-baselines[mpi]) (0.16.0)\n",
            "Requirement already satisfied: tensorflow==1.15.4 in /usr/local/lib/python3.7/dist-packages (1.15.4)\n",
            "Requirement already satisfied: google-pasta>=0.1.6 in /usr/local/lib/python3.7/dist-packages (from tensorflow==1.15.4) (0.2.0)\n",
            "Requirement already satisfied: gast==0.2.2 in /usr/local/lib/python3.7/dist-packages (from tensorflow==1.15.4) (0.2.2)\n",
            "Requirement already satisfied: keras-preprocessing>=1.0.5 in /usr/local/lib/python3.7/dist-packages (from tensorflow==1.15.4) (1.1.2)\n",
            "Requirement already satisfied: termcolor>=1.1.0 in /usr/local/lib/python3.7/dist-packages (from tensorflow==1.15.4) (1.1.0)\n",
            "Requirement already satisfied: numpy<1.19.0,>=1.16.0 in /usr/local/lib/python3.7/dist-packages (from tensorflow==1.15.4) (1.18.5)\n",
            "Requirement already satisfied: wheel>=0.26; python_version >= \"3\" in /usr/local/lib/python3.7/dist-packages (from tensorflow==1.15.4) (0.36.2)\n",
            "Requirement already satisfied: tensorboard<1.16.0,>=1.15.0 in /usr/local/lib/python3.7/dist-packages (from tensorflow==1.15.4) (1.15.0)\n",
            "Requirement already satisfied: astor>=0.6.0 in /usr/local/lib/python3.7/dist-packages (from tensorflow==1.15.4) (0.8.1)\n",
            "Requirement already satisfied: six>=1.10.0 in /usr/local/lib/python3.7/dist-packages (from tensorflow==1.15.4) (1.15.0)\n",
            "Requirement already satisfied: wrapt>=1.11.1 in /usr/local/lib/python3.7/dist-packages (from tensorflow==1.15.4) (1.12.1)\n",
            "Requirement already satisfied: grpcio>=1.8.6 in /usr/local/lib/python3.7/dist-packages (from tensorflow==1.15.4) (1.32.0)\n",
            "Requirement already satisfied: keras-applications>=1.0.8 in /usr/local/lib/python3.7/dist-packages (from tensorflow==1.15.4) (1.0.8)\n",
            "Requirement already satisfied: protobuf>=3.6.1 in /usr/local/lib/python3.7/dist-packages (from tensorflow==1.15.4) (3.12.4)\n",
            "Requirement already satisfied: absl-py>=0.7.0 in /usr/local/lib/python3.7/dist-packages (from tensorflow==1.15.4) (0.10.0)\n",
            "Requirement already satisfied: tensorflow-estimator==1.15.1 in /usr/local/lib/python3.7/dist-packages (from tensorflow==1.15.4) (1.15.1)\n",
            "Requirement already satisfied: opt-einsum>=2.3.2 in /usr/local/lib/python3.7/dist-packages (from tensorflow==1.15.4) (3.3.0)\n",
            "Requirement already satisfied: markdown>=2.6.8 in /usr/local/lib/python3.7/dist-packages (from tensorboard<1.16.0,>=1.15.0->tensorflow==1.15.4) (3.3.4)\n",
            "Requirement already satisfied: werkzeug>=0.11.15 in /usr/local/lib/python3.7/dist-packages (from tensorboard<1.16.0,>=1.15.0->tensorflow==1.15.4) (1.0.1)\n",
            "Requirement already satisfied: setuptools>=41.0.0 in /usr/local/lib/python3.7/dist-packages (from tensorboard<1.16.0,>=1.15.0->tensorflow==1.15.4) (54.0.0)\n",
            "Requirement already satisfied: h5py in /usr/local/lib/python3.7/dist-packages (from keras-applications>=1.0.8->tensorflow==1.15.4) (2.10.0)\n",
            "Requirement already satisfied: importlib-metadata; python_version < \"3.8\" in /usr/local/lib/python3.7/dist-packages (from markdown>=2.6.8->tensorboard<1.16.0,>=1.15.0->tensorflow==1.15.4) (3.7.2)\n",
            "Requirement already satisfied: typing-extensions>=3.6.4; python_version < \"3.8\" in /usr/local/lib/python3.7/dist-packages (from importlib-metadata; python_version < \"3.8\"->markdown>=2.6.8->tensorboard<1.16.0,>=1.15.0->tensorflow==1.15.4) (3.7.4.3)\n",
            "Requirement already satisfied: zipp>=0.5 in /usr/local/lib/python3.7/dist-packages (from importlib-metadata; python_version < \"3.8\"->markdown>=2.6.8->tensorboard<1.16.0,>=1.15.0->tensorflow==1.15.4) (3.4.1)\n"
          ],
          "name": "stdout"
        }
      ]
    },
    {
      "cell_type": "code",
      "metadata": {
        "id": "aUwFV6Ito39C"
      },
      "source": [
        "import yfinance as yf\n",
        "from stockstats import StockDataFrame as Sdf\n",
        "\n",
        "import pandas as pd\n",
        "import matplotlib.pyplot as plt\n",
        "\n",
        "import gym\n",
        "from stable_baselines import A2C, ACKTR\n",
        "from stable_baselines.common.vec_env import DummyVecEnv\n",
        "from stable_baselines.common.policies import MlpPolicy\n",
        "\n",
        "import numpy as np\n",
        "import pandas as pd\n",
        "from gym.utils import seeding\n",
        "import gym\n",
        "from gym import spaces\n",
        "import matplotlib\n",
        "matplotlib.use('Agg')\n",
        "\n",
        "#Diable the warnings\n",
        "import warnings\n",
        "warnings.filterwarnings('ignore')"
      ],
      "execution_count": null,
      "outputs": []
    },
    {
      "cell_type": "code",
      "metadata": {
        "colab": {
          "base_uri": "https://localhost:8080/"
        },
        "id": "by8Qk7ngpz72",
        "outputId": "c7304024-8da1-4196-8ae3-bbaa4bc6bbff"
      },
      "source": [
        "# Download and save the data in a pandas DataFrame:\n",
        "data_df = yf.download(\"PG\", start=\"2009-01-01\", end=\"2021-03-12\")"
      ],
      "execution_count": null,
      "outputs": [
        {
          "output_type": "stream",
          "text": [
            "\r[*********************100%***********************]  1 of 1 completed\n"
          ],
          "name": "stdout"
        }
      ]
    },
    {
      "cell_type": "code",
      "metadata": {
        "colab": {
          "base_uri": "https://localhost:8080/"
        },
        "id": "3uQN-eEzp4Od",
        "outputId": "87bcb24a-1237-45e5-d55d-c6c51ceef4ff"
      },
      "source": [
        "data_df.shape"
      ],
      "execution_count": null,
      "outputs": [
        {
          "output_type": "execute_result",
          "data": {
            "text/plain": [
              "(3068, 6)"
            ]
          },
          "metadata": {
            "tags": []
          },
          "execution_count": 307
        }
      ]
    },
    {
      "cell_type": "code",
      "metadata": {
        "id": "f2Yr4g4ip7ai"
      },
      "source": [
        "# reset the index, we want to use numbers instead of dates\n",
        "data_df=data_df.reset_index()"
      ],
      "execution_count": null,
      "outputs": []
    },
    {
      "cell_type": "code",
      "metadata": {
        "colab": {
          "base_uri": "https://localhost:8080/",
          "height": 204
        },
        "id": "Dw84w3WYqAiL",
        "outputId": "829265c9-24c2-4f52-9fc5-6170f3c0514d"
      },
      "source": [
        "data_df.head()"
      ],
      "execution_count": null,
      "outputs": [
        {
          "output_type": "execute_result",
          "data": {
            "text/html": [
              "<div>\n",
              "<style scoped>\n",
              "    .dataframe tbody tr th:only-of-type {\n",
              "        vertical-align: middle;\n",
              "    }\n",
              "\n",
              "    .dataframe tbody tr th {\n",
              "        vertical-align: top;\n",
              "    }\n",
              "\n",
              "    .dataframe thead th {\n",
              "        text-align: right;\n",
              "    }\n",
              "</style>\n",
              "<table border=\"1\" class=\"dataframe\">\n",
              "  <thead>\n",
              "    <tr style=\"text-align: right;\">\n",
              "      <th></th>\n",
              "      <th>Date</th>\n",
              "      <th>Open</th>\n",
              "      <th>High</th>\n",
              "      <th>Low</th>\n",
              "      <th>Close</th>\n",
              "      <th>Adj Close</th>\n",
              "      <th>Volume</th>\n",
              "    </tr>\n",
              "  </thead>\n",
              "  <tbody>\n",
              "    <tr>\n",
              "      <th>0</th>\n",
              "      <td>2009-01-02</td>\n",
              "      <td>61.689999</td>\n",
              "      <td>62.970001</td>\n",
              "      <td>61.060001</td>\n",
              "      <td>62.799999</td>\n",
              "      <td>43.101299</td>\n",
              "      <td>11135700</td>\n",
              "    </tr>\n",
              "    <tr>\n",
              "      <th>1</th>\n",
              "      <td>2009-01-05</td>\n",
              "      <td>62.320000</td>\n",
              "      <td>62.439999</td>\n",
              "      <td>61.590000</td>\n",
              "      <td>62.349998</td>\n",
              "      <td>42.792446</td>\n",
              "      <td>14322800</td>\n",
              "    </tr>\n",
              "    <tr>\n",
              "      <th>2</th>\n",
              "      <td>2009-01-06</td>\n",
              "      <td>62.500000</td>\n",
              "      <td>62.950001</td>\n",
              "      <td>61.509998</td>\n",
              "      <td>62.169998</td>\n",
              "      <td>42.668911</td>\n",
              "      <td>13401600</td>\n",
              "    </tr>\n",
              "    <tr>\n",
              "      <th>3</th>\n",
              "      <td>2009-01-07</td>\n",
              "      <td>61.330002</td>\n",
              "      <td>61.660000</td>\n",
              "      <td>60.639999</td>\n",
              "      <td>61.080002</td>\n",
              "      <td>41.920818</td>\n",
              "      <td>12415600</td>\n",
              "    </tr>\n",
              "    <tr>\n",
              "      <th>4</th>\n",
              "      <td>2009-01-08</td>\n",
              "      <td>60.910000</td>\n",
              "      <td>61.250000</td>\n",
              "      <td>60.000000</td>\n",
              "      <td>60.410000</td>\n",
              "      <td>41.460972</td>\n",
              "      <td>11508100</td>\n",
              "    </tr>\n",
              "  </tbody>\n",
              "</table>\n",
              "</div>"
            ],
            "text/plain": [
              "        Date       Open       High        Low      Close  Adj Close    Volume\n",
              "0 2009-01-02  61.689999  62.970001  61.060001  62.799999  43.101299  11135700\n",
              "1 2009-01-05  62.320000  62.439999  61.590000  62.349998  42.792446  14322800\n",
              "2 2009-01-06  62.500000  62.950001  61.509998  62.169998  42.668911  13401600\n",
              "3 2009-01-07  61.330002  61.660000  60.639999  61.080002  41.920818  12415600\n",
              "4 2009-01-08  60.910000  61.250000  60.000000  60.410000  41.460972  11508100"
            ]
          },
          "metadata": {
            "tags": []
          },
          "execution_count": 309
        }
      ]
    },
    {
      "cell_type": "code",
      "metadata": {
        "colab": {
          "base_uri": "https://localhost:8080/"
        },
        "id": "dpKDQ2zxqDgc",
        "outputId": "4078d370-854d-4696-d772-306cea7dad80"
      },
      "source": [
        "data_df.columns"
      ],
      "execution_count": null,
      "outputs": [
        {
          "output_type": "execute_result",
          "data": {
            "text/plain": [
              "Index(['Date', 'Open', 'High', 'Low', 'Close', 'Adj Close', 'Volume'], dtype='object')"
            ]
          },
          "metadata": {
            "tags": []
          },
          "execution_count": 310
        }
      ]
    },
    {
      "cell_type": "code",
      "metadata": {
        "id": "cXoILtadqHLn"
      },
      "source": [
        "# convert the column names to standardized names\n",
        "data_df.columns = ['datadate','open','high','low','close','adjcp','volume']"
      ],
      "execution_count": null,
      "outputs": []
    },
    {
      "cell_type": "code",
      "metadata": {
        "colab": {
          "base_uri": "https://localhost:8080/"
        },
        "id": "y7H60DBlqPmm",
        "outputId": "36009611-bdf5-459c-dd53-a21346747bfb"
      },
      "source": [
        "# check missing data \n",
        "data_df.isnull().values.any()"
      ],
      "execution_count": null,
      "outputs": [
        {
          "output_type": "execute_result",
          "data": {
            "text/plain": [
              "False"
            ]
          },
          "metadata": {
            "tags": []
          },
          "execution_count": 312
        }
      ]
    },
    {
      "cell_type": "code",
      "metadata": {
        "id": "-QzjmeDlqUe4"
      },
      "source": [
        "stock = Sdf.retype(data_df.copy())\n",
        "# we need to use adjusted close price instead of close price\n",
        "stock['close'] = stock['adjcp']\n"
      ],
      "execution_count": null,
      "outputs": []
    },
    {
      "cell_type": "code",
      "metadata": {
        "colab": {
          "base_uri": "https://localhost:8080/",
          "height": 204
        },
        "id": "8_2YyWcDqffN",
        "outputId": "608f7993-cdc1-4b8c-ca79-7eedc7e97409"
      },
      "source": [
        "data_df.head()"
      ],
      "execution_count": null,
      "outputs": [
        {
          "output_type": "execute_result",
          "data": {
            "text/html": [
              "<div>\n",
              "<style scoped>\n",
              "    .dataframe tbody tr th:only-of-type {\n",
              "        vertical-align: middle;\n",
              "    }\n",
              "\n",
              "    .dataframe tbody tr th {\n",
              "        vertical-align: top;\n",
              "    }\n",
              "\n",
              "    .dataframe thead th {\n",
              "        text-align: right;\n",
              "    }\n",
              "</style>\n",
              "<table border=\"1\" class=\"dataframe\">\n",
              "  <thead>\n",
              "    <tr style=\"text-align: right;\">\n",
              "      <th></th>\n",
              "      <th>datadate</th>\n",
              "      <th>open</th>\n",
              "      <th>high</th>\n",
              "      <th>low</th>\n",
              "      <th>close</th>\n",
              "      <th>adjcp</th>\n",
              "      <th>volume</th>\n",
              "    </tr>\n",
              "  </thead>\n",
              "  <tbody>\n",
              "    <tr>\n",
              "      <th>0</th>\n",
              "      <td>2009-01-02</td>\n",
              "      <td>61.689999</td>\n",
              "      <td>62.970001</td>\n",
              "      <td>61.060001</td>\n",
              "      <td>62.799999</td>\n",
              "      <td>43.101299</td>\n",
              "      <td>11135700</td>\n",
              "    </tr>\n",
              "    <tr>\n",
              "      <th>1</th>\n",
              "      <td>2009-01-05</td>\n",
              "      <td>62.320000</td>\n",
              "      <td>62.439999</td>\n",
              "      <td>61.590000</td>\n",
              "      <td>62.349998</td>\n",
              "      <td>42.792446</td>\n",
              "      <td>14322800</td>\n",
              "    </tr>\n",
              "    <tr>\n",
              "      <th>2</th>\n",
              "      <td>2009-01-06</td>\n",
              "      <td>62.500000</td>\n",
              "      <td>62.950001</td>\n",
              "      <td>61.509998</td>\n",
              "      <td>62.169998</td>\n",
              "      <td>42.668911</td>\n",
              "      <td>13401600</td>\n",
              "    </tr>\n",
              "    <tr>\n",
              "      <th>3</th>\n",
              "      <td>2009-01-07</td>\n",
              "      <td>61.330002</td>\n",
              "      <td>61.660000</td>\n",
              "      <td>60.639999</td>\n",
              "      <td>61.080002</td>\n",
              "      <td>41.920818</td>\n",
              "      <td>12415600</td>\n",
              "    </tr>\n",
              "    <tr>\n",
              "      <th>4</th>\n",
              "      <td>2009-01-08</td>\n",
              "      <td>60.910000</td>\n",
              "      <td>61.250000</td>\n",
              "      <td>60.000000</td>\n",
              "      <td>60.410000</td>\n",
              "      <td>41.460972</td>\n",
              "      <td>11508100</td>\n",
              "    </tr>\n",
              "  </tbody>\n",
              "</table>\n",
              "</div>"
            ],
            "text/plain": [
              "    datadate       open       high        low      close      adjcp    volume\n",
              "0 2009-01-02  61.689999  62.970001  61.060001  62.799999  43.101299  11135700\n",
              "1 2009-01-05  62.320000  62.439999  61.590000  62.349998  42.792446  14322800\n",
              "2 2009-01-06  62.500000  62.950001  61.509998  62.169998  42.668911  13401600\n",
              "3 2009-01-07  61.330002  61.660000  60.639999  61.080002  41.920818  12415600\n",
              "4 2009-01-08  60.910000  61.250000  60.000000  60.410000  41.460972  11508100"
            ]
          },
          "metadata": {
            "tags": []
          },
          "execution_count": 314
        }
      ]
    },
    {
      "cell_type": "code",
      "metadata": {
        "id": "W4W3CNJ4qiWk"
      },
      "source": [
        "# Make a copy of the original data to try it track step by step.\n",
        "data_clean = data_df.copy()"
      ],
      "execution_count": null,
      "outputs": []
    },
    {
      "cell_type": "code",
      "metadata": {
        "colab": {
          "base_uri": "https://localhost:8080/",
          "height": 204
        },
        "id": "kUVw6yomqreL",
        "outputId": "fe1771a7-4944-41fa-db51-5626b98f335e"
      },
      "source": [
        "data_clean.head()"
      ],
      "execution_count": null,
      "outputs": [
        {
          "output_type": "execute_result",
          "data": {
            "text/html": [
              "<div>\n",
              "<style scoped>\n",
              "    .dataframe tbody tr th:only-of-type {\n",
              "        vertical-align: middle;\n",
              "    }\n",
              "\n",
              "    .dataframe tbody tr th {\n",
              "        vertical-align: top;\n",
              "    }\n",
              "\n",
              "    .dataframe thead th {\n",
              "        text-align: right;\n",
              "    }\n",
              "</style>\n",
              "<table border=\"1\" class=\"dataframe\">\n",
              "  <thead>\n",
              "    <tr style=\"text-align: right;\">\n",
              "      <th></th>\n",
              "      <th>datadate</th>\n",
              "      <th>open</th>\n",
              "      <th>high</th>\n",
              "      <th>low</th>\n",
              "      <th>close</th>\n",
              "      <th>adjcp</th>\n",
              "      <th>volume</th>\n",
              "    </tr>\n",
              "  </thead>\n",
              "  <tbody>\n",
              "    <tr>\n",
              "      <th>0</th>\n",
              "      <td>2009-01-02</td>\n",
              "      <td>61.689999</td>\n",
              "      <td>62.970001</td>\n",
              "      <td>61.060001</td>\n",
              "      <td>62.799999</td>\n",
              "      <td>43.101299</td>\n",
              "      <td>11135700</td>\n",
              "    </tr>\n",
              "    <tr>\n",
              "      <th>1</th>\n",
              "      <td>2009-01-05</td>\n",
              "      <td>62.320000</td>\n",
              "      <td>62.439999</td>\n",
              "      <td>61.590000</td>\n",
              "      <td>62.349998</td>\n",
              "      <td>42.792446</td>\n",
              "      <td>14322800</td>\n",
              "    </tr>\n",
              "    <tr>\n",
              "      <th>2</th>\n",
              "      <td>2009-01-06</td>\n",
              "      <td>62.500000</td>\n",
              "      <td>62.950001</td>\n",
              "      <td>61.509998</td>\n",
              "      <td>62.169998</td>\n",
              "      <td>42.668911</td>\n",
              "      <td>13401600</td>\n",
              "    </tr>\n",
              "    <tr>\n",
              "      <th>3</th>\n",
              "      <td>2009-01-07</td>\n",
              "      <td>61.330002</td>\n",
              "      <td>61.660000</td>\n",
              "      <td>60.639999</td>\n",
              "      <td>61.080002</td>\n",
              "      <td>41.920818</td>\n",
              "      <td>12415600</td>\n",
              "    </tr>\n",
              "    <tr>\n",
              "      <th>4</th>\n",
              "      <td>2009-01-08</td>\n",
              "      <td>60.910000</td>\n",
              "      <td>61.250000</td>\n",
              "      <td>60.000000</td>\n",
              "      <td>60.410000</td>\n",
              "      <td>41.460972</td>\n",
              "      <td>11508100</td>\n",
              "    </tr>\n",
              "  </tbody>\n",
              "</table>\n",
              "</div>"
            ],
            "text/plain": [
              "    datadate       open       high        low      close      adjcp    volume\n",
              "0 2009-01-02  61.689999  62.970001  61.060001  62.799999  43.101299  11135700\n",
              "1 2009-01-05  62.320000  62.439999  61.590000  62.349998  42.792446  14322800\n",
              "2 2009-01-06  62.500000  62.950001  61.509998  62.169998  42.668911  13401600\n",
              "3 2009-01-07  61.330002  61.660000  60.639999  61.080002  41.920818  12415600\n",
              "4 2009-01-08  60.910000  61.250000  60.000000  60.410000  41.460972  11508100"
            ]
          },
          "metadata": {
            "tags": []
          },
          "execution_count": 316
        }
      ]
    },
    {
      "cell_type": "code",
      "metadata": {
        "id": "EToueHnqrKGp"
      },
      "source": [
        "# Global variables\n",
        "HMAX_NORMALIZE = 200\n",
        "INITIAL_ACCOUNT_BALANCE=100000\n",
        "STOCK_DIM = 1\n",
        "\n",
        "# transaction fee: 1/1000 reasonable percentage\n",
        "TRANSACTION_FEE_PERCENT = 0\n",
        "# REWARD_SCALING = 1e-3"
      ],
      "execution_count": null,
      "outputs": []
    },
    {
      "cell_type": "code",
      "metadata": {
        "id": "VaXtrLQ7rPpE"
      },
      "source": [
        "class SingleStockEnv(gym.Env):\n",
        "    \"\"\"A stock trading environment for OpenAI gym\"\"\"\n",
        "    metadata = {'render.modes': ['human']}\n",
        "\n",
        "    def __init__(self, df,day = 0):\n",
        "        #super(StockEnv, self).__init__()\n",
        "        # date increment\n",
        "        self.day = day\n",
        "        self.df = df\n",
        "        # action_space normalization and the shape is STOCK_DIM\n",
        "        self.action_space = spaces.Box(low = -1, high = 1,shape = (STOCK_DIM,)) \n",
        "        # Shape = 4: [Current Balance]+[prices]+[owned shares] +[macd] \n",
        "        self.observation_space = spaces.Box(low=0, high=np.inf, shape = (3,))\n",
        "        # load data from a pandas dataframe\n",
        "        self.data = self.df.loc[self.day,:]\n",
        "        # termination\n",
        "        self.terminal = False  \n",
        "        # save the total number of trades\n",
        "        self.trades = 0\n",
        "        # initalize state\n",
        "        self.state = [INITIAL_ACCOUNT_BALANCE] + \\\n",
        "                      [self.data.adjcp] + \\\n",
        "                      [0]*STOCK_DIM \n",
        "        # initialize reward and cost\n",
        "        self.reward = 0\n",
        "        self.cost = 0\n",
        "        \n",
        "        # memorize the total value, total rewards\n",
        "        self.asset_memory = [INITIAL_ACCOUNT_BALANCE]\n",
        "        self.rewards_memory = []\n",
        "\n",
        "    def _sell_stock(self, index, action):\n",
        "        # perform sell action based on the sign of the action\n",
        "        if self.state[index+STOCK_DIM+1] > 0:\n",
        "            # update balance\n",
        "            self.state[0] += \\\n",
        "            self.state[index+1]*min(abs(action),self.state[index+STOCK_DIM+1]) * \\\n",
        "             (1- TRANSACTION_FEE_PERCENT)\n",
        "            # update held shares\n",
        "            self.state[index+STOCK_DIM+1] -= min(abs(action), self.state[index+STOCK_DIM+1])\n",
        "            # update transaction costs\n",
        "            self.cost +=self.state[index+1]*min(abs(action),self.state[index+STOCK_DIM+1]) * \\\n",
        "             TRANSACTION_FEE_PERCENT\n",
        "            self.trades+=1\n",
        "        else:\n",
        "            pass\n",
        "            \n",
        "    def _buy_stock(self, index, action):\n",
        "        # perform buy action based on the sign of the action\n",
        "        available_amount = self.state[0] // self.state[index+1]\n",
        "        #update balance\n",
        "        self.state[0] -= self.state[index+1]*min(available_amount, action)* \\\n",
        "                          (1+ TRANSACTION_FEE_PERCENT)\n",
        "        # update held shares\n",
        "        self.state[index+STOCK_DIM+1] += min(available_amount, action)\n",
        "        # update transaction costs\n",
        "        self.cost+=self.state[index+1]*min(available_amount, action)* \\\n",
        "                          TRANSACTION_FEE_PERCENT\n",
        "        self.trades+=1\n",
        "        \n",
        "    def step(self, actions):\n",
        "        self.terminal = self.day >= len(self.df.index.unique())-1\n",
        "\n",
        "        if self.terminal:\n",
        "            plt.plot(self.asset_memory,'r')\n",
        "            plt.savefig('account_value.png')\n",
        "            plt.close()\n",
        "            \n",
        "            end_total_asset = self.state[0]+ \\\n",
        "            sum(np.array(self.state[1:(STOCK_DIM+1)])*np.array(self.state[(STOCK_DIM+1):(STOCK_DIM*2+1)]))\n",
        "            print(\"previous_total_asset:{}\".format(self.asset_memory[0])) \n",
        "            print(\"end_total_asset:{}\".format(end_total_asset))\n",
        "            \n",
        "            df_total_value = pd.DataFrame(self.asset_memory)\n",
        "            df_total_value.to_csv('account_value.csv')\n",
        "            print(\"total_reward:{}\".format(self.state[0]+sum(np.array(self.state[1:(STOCK_DIM+1)])*np.array(self.state[(STOCK_DIM+1):(STOCK_DIM*2+1)]))- INITIAL_ACCOUNT_BALANCE ))\n",
        "            print(\"total_cost: \", self.cost)\n",
        "            print(\"total trades: \", self.trades)\n",
        "            \n",
        "            df_total_value.columns = ['account_value']\n",
        "            df_total_value['daily_return']=df_total_value.pct_change(1)\n",
        "            \n",
        "            if df_total_value['daily_return'].std()!=0:\n",
        "                sharpe = (252**0.5)*df_total_value['daily_return'].mean()/ \\\n",
        "                      df_total_value['daily_return'].std()\n",
        "                print(\"Sharpe: \",sharpe)\n",
        "            df_rewards = pd.DataFrame(self.rewards_memory)\n",
        "            df_rewards.to_csv('account_rewards.csv')\n",
        "            return self.state, self.reward, self.terminal,{}\n",
        "\n",
        "        else:\n",
        "            \n",
        "            # actions are the shares we need to buy, hold, or sell\n",
        "            actions = actions * HMAX_NORMALIZE\n",
        "            # calculate begining total asset\n",
        "            begin_total_asset = self.state[0]+ \\\n",
        "            sum(np.array(self.state[1:(STOCK_DIM+1)])*np.array(self.state[(STOCK_DIM+1):(STOCK_DIM*2+1)]))\n",
        "            \n",
        "            # perform buy or sell action\n",
        "            argsort_actions = np.argsort(actions)\n",
        "            sell_index = argsort_actions[:np.where(actions < 0)[0].shape[0]]\n",
        "            buy_index = argsort_actions[::-1][:np.where(actions > 0)[0].shape[0]]\n",
        "\n",
        "            for index in sell_index:\n",
        "                # print('take sell action'.format(actions[index]))\n",
        "                self._sell_stock(index, actions[index])\n",
        "\n",
        "            for index in buy_index:\n",
        "                # print('take buy action: {}'.format(actions[index]))\n",
        "                self._buy_stock(index, actions[index])\n",
        "            \n",
        "            # update data, walk a step s'\n",
        "            self.day += 1\n",
        "            self.data = self.df.loc[self.day,:]         \n",
        "            #load next state\n",
        "            self.state =  [self.state[0]] + \\\n",
        "                          [self.data.adjcp] + \\\n",
        "                          list(self.state[(STOCK_DIM+1):(STOCK_DIM*2+1)]) \n",
        "                        \n",
        "            # calculate the end total asset\n",
        "            end_total_asset = self.state[0]+ \\\n",
        "            sum(np.array(self.state[1:(STOCK_DIM+1)])*np.array(self.state[(STOCK_DIM+1):(STOCK_DIM*2+1)]))\n",
        "            self.reward = end_total_asset - begin_total_asset  \n",
        "            self.rewards_memory.append(self.reward)\n",
        "            #self.reward = self.reward * REWARD_SCALING\n",
        "            self.asset_memory.append(end_total_asset)\n",
        "\n",
        "        return self.state, self.reward, self.terminal, {}\n",
        "\n",
        "    def reset(self):\n",
        "        self.asset_memory = [INITIAL_ACCOUNT_BALANCE]\n",
        "        self.day = 0\n",
        "        self.data = self.df.loc[self.day,:]\n",
        "        self.cost = 0\n",
        "        self.trades = 0\n",
        "        self.terminal = False \n",
        "        self.rewards_memory = []\n",
        "        #initiate state\n",
        "        self.state = [INITIAL_ACCOUNT_BALANCE] + \\\n",
        "                      [self.data.adjcp] + \\\n",
        "                      [0]*STOCK_DIM \n",
        "        return self.state\n",
        "    \n",
        "    def render(self, mode='human'):\n",
        "        return self.state\n",
        "\n",
        "    def _seed(self, seed=None):\n",
        "        self.np_random, seed = seeding.np_random(seed)\n",
        "        return [seed]"
      ],
      "execution_count": null,
      "outputs": []
    },
    {
      "cell_type": "code",
      "metadata": {
        "colab": {
          "base_uri": "https://localhost:8080/"
        },
        "id": "zMMJXrYTsreK",
        "outputId": "989b65e8-aa6c-43e8-9f3a-fadc7ab3d013"
      },
      "source": [
        "(80/100)*3076"
      ],
      "execution_count": null,
      "outputs": [
        {
          "output_type": "execute_result",
          "data": {
            "text/plain": [
              "2460.8"
            ]
          },
          "metadata": {
            "tags": []
          },
          "execution_count": 176
        }
      ]
    },
    {
      "cell_type": "code",
      "metadata": {
        "id": "bOXrm85dtHFc"
      },
      "source": [
        "train = data_clean[(data_clean.datadate>='2009-01-01') & (data_clean.datadate<'2019-01-01')]\n",
        "# the index needs to start from 0\n",
        "train=train.reset_index(drop=True)\n"
      ],
      "execution_count": null,
      "outputs": []
    },
    {
      "cell_type": "code",
      "metadata": {
        "colab": {
          "base_uri": "https://localhost:8080/",
          "height": 204
        },
        "id": "qHOBWd9VtoQU",
        "outputId": "62981cf3-38c9-4060-a66d-8a63869edfb0"
      },
      "source": [
        "train.tail()"
      ],
      "execution_count": null,
      "outputs": [
        {
          "output_type": "execute_result",
          "data": {
            "text/html": [
              "<div>\n",
              "<style scoped>\n",
              "    .dataframe tbody tr th:only-of-type {\n",
              "        vertical-align: middle;\n",
              "    }\n",
              "\n",
              "    .dataframe tbody tr th {\n",
              "        vertical-align: top;\n",
              "    }\n",
              "\n",
              "    .dataframe thead th {\n",
              "        text-align: right;\n",
              "    }\n",
              "</style>\n",
              "<table border=\"1\" class=\"dataframe\">\n",
              "  <thead>\n",
              "    <tr style=\"text-align: right;\">\n",
              "      <th></th>\n",
              "      <th>datadate</th>\n",
              "      <th>open</th>\n",
              "      <th>high</th>\n",
              "      <th>low</th>\n",
              "      <th>close</th>\n",
              "      <th>adjcp</th>\n",
              "      <th>volume</th>\n",
              "    </tr>\n",
              "  </thead>\n",
              "  <tbody>\n",
              "    <tr>\n",
              "      <th>2511</th>\n",
              "      <td>2018-12-24</td>\n",
              "      <td>90.449997</td>\n",
              "      <td>90.660004</td>\n",
              "      <td>86.879997</td>\n",
              "      <td>87.360001</td>\n",
              "      <td>82.425110</td>\n",
              "      <td>7396300</td>\n",
              "    </tr>\n",
              "    <tr>\n",
              "      <th>2512</th>\n",
              "      <td>2018-12-26</td>\n",
              "      <td>87.419998</td>\n",
              "      <td>90.089996</td>\n",
              "      <td>86.739998</td>\n",
              "      <td>90.089996</td>\n",
              "      <td>85.000893</td>\n",
              "      <td>8630900</td>\n",
              "    </tr>\n",
              "    <tr>\n",
              "      <th>2513</th>\n",
              "      <td>2018-12-27</td>\n",
              "      <td>89.610001</td>\n",
              "      <td>92.050003</td>\n",
              "      <td>88.199997</td>\n",
              "      <td>92.019997</td>\n",
              "      <td>86.821861</td>\n",
              "      <td>11360100</td>\n",
              "    </tr>\n",
              "    <tr>\n",
              "      <th>2514</th>\n",
              "      <td>2018-12-28</td>\n",
              "      <td>92.559998</td>\n",
              "      <td>93.279999</td>\n",
              "      <td>90.839996</td>\n",
              "      <td>91.180000</td>\n",
              "      <td>86.029327</td>\n",
              "      <td>9611800</td>\n",
              "    </tr>\n",
              "    <tr>\n",
              "      <th>2515</th>\n",
              "      <td>2018-12-31</td>\n",
              "      <td>91.629997</td>\n",
              "      <td>92.180000</td>\n",
              "      <td>91.150002</td>\n",
              "      <td>91.919998</td>\n",
              "      <td>86.727516</td>\n",
              "      <td>7239500</td>\n",
              "    </tr>\n",
              "  </tbody>\n",
              "</table>\n",
              "</div>"
            ],
            "text/plain": [
              "       datadate       open       high  ...      close      adjcp    volume\n",
              "2511 2018-12-24  90.449997  90.660004  ...  87.360001  82.425110   7396300\n",
              "2512 2018-12-26  87.419998  90.089996  ...  90.089996  85.000893   8630900\n",
              "2513 2018-12-27  89.610001  92.050003  ...  92.019997  86.821861  11360100\n",
              "2514 2018-12-28  92.559998  93.279999  ...  91.180000  86.029327   9611800\n",
              "2515 2018-12-31  91.629997  92.180000  ...  91.919998  86.727516   7239500\n",
              "\n",
              "[5 rows x 7 columns]"
            ]
          },
          "metadata": {
            "tags": []
          },
          "execution_count": 320
        }
      ]
    },
    {
      "cell_type": "markdown",
      "metadata": {
        "id": "6sNTNxXe3Re3"
      },
      "source": [
        "Model Training"
      ]
    },
    {
      "cell_type": "code",
      "metadata": {
        "colab": {
          "base_uri": "https://localhost:8080/"
        },
        "id": "c7Fx6oF7K4Bf",
        "outputId": "2c87db0b-78aa-4019-dde0-f96f21010697"
      },
      "source": [
        "#tensorboard --logdir ./single_stock_tensorboard/\n",
        "env_train = DummyVecEnv([lambda: SingleStockEnv(train)])\n",
        "model_a2c = A2C('MlpPolicy', env_train, tensorboard_log=\"./single_stock_trading_2_tensorboard/\")\n",
        "model_a2c.learn(total_timesteps=100000,tb_log_name=\"run_pg1_a2c\")\n",
        "#model.save('PG_pg1_50k')"
      ],
      "execution_count": null,
      "outputs": [
        {
          "output_type": "stream",
          "text": [
            "previous_total_asset:100000\n",
            "end_total_asset:153939.61495206377\n",
            "total_reward:53939.61495206377\n",
            "total_cost:  0.0\n",
            "total trades:  2436\n",
            "Sharpe:  0.549185896177876\n",
            "previous_total_asset:100000\n",
            "end_total_asset:146464.42886527546\n",
            "total_reward:46464.42886527546\n",
            "total_cost:  0.0\n",
            "total trades:  2266\n",
            "Sharpe:  0.439979661013481\n",
            "previous_total_asset:100000\n",
            "end_total_asset:176474.9790727289\n",
            "total_reward:76474.9790727289\n",
            "total_cost:  0.0\n",
            "total trades:  2358\n",
            "Sharpe:  0.6528767889542381\n",
            "previous_total_asset:100000\n",
            "end_total_asset:145747.7471390214\n",
            "total_reward:45747.747139021405\n",
            "total_cost:  0.0\n",
            "total trades:  2356\n",
            "Sharpe:  0.4520307481217567\n",
            "previous_total_asset:100000\n",
            "end_total_asset:224648.65682740923\n",
            "total_reward:124648.65682740923\n",
            "total_cost:  0.0\n",
            "total trades:  2513\n",
            "Sharpe:  0.6150101410628456\n",
            "previous_total_asset:100000\n",
            "end_total_asset:220468.29124371195\n",
            "total_reward:120468.29124371195\n",
            "total_cost:  0.0\n",
            "total trades:  2513\n",
            "Sharpe:  0.6115563642903663\n",
            "previous_total_asset:100000\n",
            "end_total_asset:218135.42922703247\n",
            "total_reward:118135.42922703247\n",
            "total_cost:  0.0\n",
            "total trades:  2512\n",
            "Sharpe:  0.5945466768884797\n",
            "previous_total_asset:100000\n",
            "end_total_asset:208109.69317143716\n",
            "total_reward:108109.69317143716\n",
            "total_cost:  0.0\n",
            "total trades:  2515\n",
            "Sharpe:  0.556745115692245\n",
            "previous_total_asset:100000\n",
            "end_total_asset:209167.37665215007\n",
            "total_reward:109167.37665215007\n",
            "total_cost:  0.0\n",
            "total trades:  2515\n",
            "Sharpe:  0.5618677675195565\n",
            "previous_total_asset:100000\n",
            "end_total_asset:209079.04207355605\n",
            "total_reward:109079.04207355605\n",
            "total_cost:  0.0\n",
            "total trades:  2515\n",
            "Sharpe:  0.5616398286630683\n",
            "previous_total_asset:100000\n",
            "end_total_asset:204491.0941959573\n",
            "total_reward:104491.0941959573\n",
            "total_cost:  0.0\n",
            "total trades:  2515\n",
            "Sharpe:  0.547324519524929\n",
            "previous_total_asset:100000\n",
            "end_total_asset:209572.25401762783\n",
            "total_reward:109572.25401762783\n",
            "total_cost:  0.0\n",
            "total trades:  2514\n",
            "Sharpe:  0.5605773452544165\n",
            "previous_total_asset:100000\n",
            "end_total_asset:208466.9996919496\n",
            "total_reward:108466.9996919496\n",
            "total_cost:  0.0\n",
            "total trades:  2515\n",
            "Sharpe:  0.5596369831207955\n",
            "previous_total_asset:100000\n",
            "end_total_asset:205768.4874901958\n",
            "total_reward:105768.48749019581\n",
            "total_cost:  0.0\n",
            "total trades:  2515\n",
            "Sharpe:  0.5513977592287023\n",
            "previous_total_asset:100000\n",
            "end_total_asset:201647.0604364487\n",
            "total_reward:101647.0604364487\n",
            "total_cost:  0.0\n",
            "total trades:  2515\n",
            "Sharpe:  0.5409165504682086\n",
            "previous_total_asset:100000\n",
            "end_total_asset:208150.94529097842\n",
            "total_reward:108150.94529097842\n",
            "total_cost:  0.0\n",
            "total trades:  2515\n",
            "Sharpe:  0.5604477551629934\n",
            "previous_total_asset:100000\n",
            "end_total_asset:205314.95329241987\n",
            "total_reward:105314.95329241987\n",
            "total_cost:  0.0\n",
            "total trades:  2515\n",
            "Sharpe:  0.5474528540901757\n",
            "previous_total_asset:100000\n",
            "end_total_asset:209677.74717402045\n",
            "total_reward:109677.74717402045\n",
            "total_cost:  0.0\n",
            "total trades:  2515\n",
            "Sharpe:  0.5529709579238742\n",
            "previous_total_asset:100000\n",
            "end_total_asset:203870.03174703525\n",
            "total_reward:103870.03174703525\n",
            "total_cost:  0.0\n",
            "total trades:  2515\n",
            "Sharpe:  0.5429274758200483\n",
            "previous_total_asset:100000\n",
            "end_total_asset:205232.92855492837\n",
            "total_reward:105232.92855492837\n",
            "total_cost:  0.0\n",
            "total trades:  2515\n",
            "Sharpe:  0.5502061999521733\n",
            "previous_total_asset:100000\n",
            "end_total_asset:204692.79029284962\n",
            "total_reward:104692.79029284962\n",
            "total_cost:  0.0\n",
            "total trades:  2515\n",
            "Sharpe:  0.546663754129766\n",
            "previous_total_asset:100000\n",
            "end_total_asset:211013.93715543096\n",
            "total_reward:111013.93715543096\n",
            "total_cost:  0.0\n",
            "total trades:  2515\n",
            "Sharpe:  0.5624988809708713\n",
            "previous_total_asset:100000\n",
            "end_total_asset:211663.7752650323\n",
            "total_reward:111663.77526503231\n",
            "total_cost:  0.0\n",
            "total trades:  2515\n",
            "Sharpe:  0.5549928937628329\n",
            "previous_total_asset:100000\n",
            "end_total_asset:209733.61718039546\n",
            "total_reward:109733.61718039546\n",
            "total_cost:  0.0\n",
            "total trades:  2515\n",
            "Sharpe:  0.5512454582628199\n",
            "previous_total_asset:100000\n",
            "end_total_asset:200113.245551038\n",
            "total_reward:100113.24555103801\n",
            "total_cost:  0.0\n",
            "total trades:  2515\n",
            "Sharpe:  0.5292204320466803\n",
            "previous_total_asset:100000\n",
            "end_total_asset:199585.9464082226\n",
            "total_reward:99585.9464082226\n",
            "total_cost:  0.0\n",
            "total trades:  2515\n",
            "Sharpe:  0.5288273836879709\n",
            "previous_total_asset:100000\n",
            "end_total_asset:209120.04167663094\n",
            "total_reward:109120.04167663094\n",
            "total_cost:  0.0\n",
            "total trades:  2515\n",
            "Sharpe:  0.5617321751476293\n",
            "previous_total_asset:100000\n",
            "end_total_asset:205875.7790530666\n",
            "total_reward:105875.7790530666\n",
            "total_cost:  0.0\n",
            "total trades:  2515\n",
            "Sharpe:  0.5523674173732237\n",
            "previous_total_asset:100000\n",
            "end_total_asset:212286.96802825967\n",
            "total_reward:112286.96802825967\n",
            "total_cost:  0.0\n",
            "total trades:  2515\n",
            "Sharpe:  0.5666854227684023\n",
            "previous_total_asset:100000\n",
            "end_total_asset:205899.3350801475\n",
            "total_reward:105899.33508014749\n",
            "total_cost:  0.0\n",
            "total trades:  2515\n",
            "Sharpe:  0.5455240556067615\n",
            "previous_total_asset:100000\n",
            "end_total_asset:211949.42711419455\n",
            "total_reward:111949.42711419455\n",
            "total_cost:  0.0\n",
            "total trades:  2515\n",
            "Sharpe:  0.5582726540592068\n",
            "previous_total_asset:100000\n",
            "end_total_asset:208958.1822964408\n",
            "total_reward:108958.18229644079\n",
            "total_cost:  0.0\n",
            "total trades:  2515\n",
            "Sharpe:  0.5491970624660146\n",
            "previous_total_asset:100000\n",
            "end_total_asset:210826.42019094812\n",
            "total_reward:110826.42019094812\n",
            "total_cost:  0.0\n",
            "total trades:  2515\n",
            "Sharpe:  0.5524030740152178\n",
            "previous_total_asset:100000\n",
            "end_total_asset:211226.06272607896\n",
            "total_reward:111226.06272607896\n",
            "total_cost:  0.0\n",
            "total trades:  2515\n",
            "Sharpe:  0.553207419374739\n",
            "previous_total_asset:100000\n",
            "end_total_asset:209593.85891370196\n",
            "total_reward:109593.85891370196\n",
            "total_cost:  0.0\n",
            "total trades:  2515\n",
            "Sharpe:  0.5485774864983641\n",
            "previous_total_asset:100000\n",
            "end_total_asset:211883.21374304008\n",
            "total_reward:111883.21374304008\n",
            "total_cost:  0.0\n",
            "total trades:  2515\n",
            "Sharpe:  0.55680218805977\n",
            "previous_total_asset:100000\n",
            "end_total_asset:211620.39321293228\n",
            "total_reward:111620.39321293228\n",
            "total_cost:  0.0\n",
            "total trades:  2515\n",
            "Sharpe:  0.556828290695212\n",
            "previous_total_asset:100000\n",
            "end_total_asset:215111.00861399592\n",
            "total_reward:115111.00861399592\n",
            "total_cost:  0.0\n",
            "total trades:  2515\n",
            "Sharpe:  0.5697202193193127\n",
            "previous_total_asset:100000\n",
            "end_total_asset:210287.81721495342\n",
            "total_reward:110287.81721495342\n",
            "total_cost:  0.0\n",
            "total trades:  2515\n",
            "Sharpe:  0.553486538857686\n"
          ],
          "name": "stdout"
        },
        {
          "output_type": "execute_result",
          "data": {
            "text/plain": [
              "<stable_baselines.a2c.a2c.A2C at 0x7f97e06c6890>"
            ]
          },
          "metadata": {
            "tags": []
          },
          "execution_count": 321
        }
      ]
    },
    {
      "cell_type": "code",
      "metadata": {
        "id": "kCVhce36q5kF",
        "colab": {
          "base_uri": "https://localhost:8080/"
        },
        "outputId": "2af620b5-cc82-49ca-b4ed-01921e044fb0"
      },
      "source": [
        "#tensorboard --logdir ./single_stock_tensorboard/\n",
        "env_train = DummyVecEnv([lambda: SingleStockEnv(train)])\n",
        "model_acktr = ACKTR('MlpPolicy', env_train, tensorboard_log=\"./single_stock_trading_2_tensorboard/\")\n",
        "model_acktr.learn(total_timesteps=100000,tb_log_name=\"run_pg2_acktr\")\n",
        "#model.save('PG_pg2_50k')"
      ],
      "execution_count": null,
      "outputs": [
        {
          "output_type": "stream",
          "text": [
            "previous_total_asset:100000\n",
            "end_total_asset:126030.49900805681\n",
            "total_reward:26030.49900805681\n",
            "total_cost:  0.0\n",
            "total trades:  2461\n",
            "Sharpe:  0.35162800234272135\n",
            "previous_total_asset:100000\n",
            "end_total_asset:139822.5558512727\n",
            "total_reward:39822.555851272686\n",
            "total_cost:  0.0\n",
            "total trades:  2492\n",
            "Sharpe:  0.41015640043003226\n",
            "previous_total_asset:100000\n",
            "end_total_asset:127200.5236836455\n",
            "total_reward:27200.5236836455\n",
            "total_cost:  0.0\n",
            "total trades:  2458\n",
            "Sharpe:  0.34496432484218087\n",
            "previous_total_asset:100000\n",
            "end_total_asset:181748.7380768367\n",
            "total_reward:81748.73807683669\n",
            "total_cost:  0.0\n",
            "total trades:  2447\n",
            "Sharpe:  0.6885671841286156\n",
            "previous_total_asset:100000\n",
            "end_total_asset:120636.72446971454\n",
            "total_reward:20636.724469714536\n",
            "total_cost:  0.0\n",
            "total trades:  2409\n",
            "Sharpe:  0.2452114770693998\n",
            "previous_total_asset:100000\n",
            "end_total_asset:149179.1163974743\n",
            "total_reward:49179.11639747431\n",
            "total_cost:  0.0\n",
            "total trades:  2435\n",
            "Sharpe:  0.5559354833917152\n",
            "previous_total_asset:100000\n",
            "end_total_asset:148100.26942850614\n",
            "total_reward:48100.269428506144\n",
            "total_cost:  0.0\n",
            "total trades:  2432\n",
            "Sharpe:  0.5203809340190725\n",
            "previous_total_asset:100000\n",
            "end_total_asset:117989.6803641707\n",
            "total_reward:17989.680364170694\n",
            "total_cost:  0.0\n",
            "total trades:  2409\n",
            "Sharpe:  0.2631922541647324\n",
            "previous_total_asset:100000\n",
            "end_total_asset:127281.75049437498\n",
            "total_reward:27281.75049437498\n",
            "total_cost:  0.0\n",
            "total trades:  2435\n",
            "Sharpe:  0.30752880882676603\n",
            "previous_total_asset:100000\n",
            "end_total_asset:148319.63064171598\n",
            "total_reward:48319.63064171598\n",
            "total_cost:  0.0\n",
            "total trades:  2475\n",
            "Sharpe:  0.550165350476637\n",
            "previous_total_asset:100000\n",
            "end_total_asset:148130.22144047735\n",
            "total_reward:48130.221440477355\n",
            "total_cost:  0.0\n",
            "total trades:  2409\n",
            "Sharpe:  0.6016161464186146\n",
            "previous_total_asset:100000\n",
            "end_total_asset:174696.3365331031\n",
            "total_reward:74696.33653310311\n",
            "total_cost:  0.0\n",
            "total trades:  2458\n",
            "Sharpe:  0.7031605636350828\n",
            "previous_total_asset:100000\n",
            "end_total_asset:160649.62000919215\n",
            "total_reward:60649.62000919215\n",
            "total_cost:  0.0\n",
            "total trades:  2459\n",
            "Sharpe:  0.5844663148142538\n",
            "previous_total_asset:100000\n",
            "end_total_asset:169807.93843478741\n",
            "total_reward:69807.93843478741\n",
            "total_cost:  0.0\n",
            "total trades:  2480\n",
            "Sharpe:  0.5551374306593658\n",
            "previous_total_asset:100000\n",
            "end_total_asset:123664.59251146019\n",
            "total_reward:23664.592511460185\n",
            "total_cost:  0.0\n",
            "total trades:  2482\n",
            "Sharpe:  0.2896184145575013\n",
            "previous_total_asset:100000\n",
            "end_total_asset:134598.4224214518\n",
            "total_reward:34598.4224214518\n",
            "total_cost:  0.0\n",
            "total trades:  2440\n",
            "Sharpe:  0.38245684624430565\n",
            "previous_total_asset:100000\n",
            "end_total_asset:156459.86147518412\n",
            "total_reward:56459.86147518412\n",
            "total_cost:  0.0\n",
            "total trades:  2439\n",
            "Sharpe:  0.5536826475489782\n",
            "previous_total_asset:100000\n",
            "end_total_asset:129066.2170239562\n",
            "total_reward:29066.217023956196\n",
            "total_cost:  0.0\n",
            "total trades:  2387\n",
            "Sharpe:  0.3866385172963153\n",
            "previous_total_asset:100000\n",
            "end_total_asset:113253.0196522638\n",
            "total_reward:13253.0196522638\n",
            "total_cost:  0.0\n",
            "total trades:  2408\n",
            "Sharpe:  0.21175212181768094\n",
            "previous_total_asset:100000\n",
            "end_total_asset:138009.79083450016\n",
            "total_reward:38009.79083450016\n",
            "total_cost:  0.0\n",
            "total trades:  2444\n",
            "Sharpe:  0.46841894126936023\n",
            "previous_total_asset:100000\n",
            "end_total_asset:148092.8353445741\n",
            "total_reward:48092.835344574094\n",
            "total_cost:  0.0\n",
            "total trades:  2422\n",
            "Sharpe:  0.5218108293726733\n",
            "previous_total_asset:100000\n",
            "end_total_asset:116150.02791354415\n",
            "total_reward:16150.027913544152\n",
            "total_cost:  0.0\n",
            "total trades:  2393\n",
            "Sharpe:  0.2343052925490582\n",
            "previous_total_asset:100000\n",
            "end_total_asset:155157.4873674999\n",
            "total_reward:55157.48736749991\n",
            "total_cost:  0.0\n",
            "total trades:  2398\n",
            "Sharpe:  0.5992633493271353\n",
            "previous_total_asset:100000\n",
            "end_total_asset:114270.24144060722\n",
            "total_reward:14270.24144060722\n",
            "total_cost:  0.0\n",
            "total trades:  2376\n",
            "Sharpe:  0.21019619546560747\n",
            "previous_total_asset:100000\n",
            "end_total_asset:118584.88130721683\n",
            "total_reward:18584.881307216827\n",
            "total_cost:  0.0\n",
            "total trades:  2371\n",
            "Sharpe:  0.33226605984001784\n",
            "previous_total_asset:100000\n",
            "end_total_asset:138922.6346202143\n",
            "total_reward:38922.63462021429\n",
            "total_cost:  0.0\n",
            "total trades:  2416\n",
            "Sharpe:  0.466628775118198\n",
            "previous_total_asset:100000\n",
            "end_total_asset:146376.43795707653\n",
            "total_reward:46376.43795707653\n",
            "total_cost:  0.0\n",
            "total trades:  2422\n",
            "Sharpe:  0.6162472424049168\n",
            "previous_total_asset:100000\n",
            "end_total_asset:127108.0779863241\n",
            "total_reward:27108.077986324104\n",
            "total_cost:  0.0\n",
            "total trades:  2342\n",
            "Sharpe:  0.5746763031593644\n",
            "previous_total_asset:100000\n",
            "end_total_asset:141809.49478819835\n",
            "total_reward:41809.49478819835\n",
            "total_cost:  0.0\n",
            "total trades:  2327\n",
            "Sharpe:  0.581903452467412\n",
            "previous_total_asset:100000\n",
            "end_total_asset:111852.03630795272\n",
            "total_reward:11852.036307952716\n",
            "total_cost:  0.0\n",
            "total trades:  2329\n",
            "Sharpe:  0.19471448425777135\n",
            "previous_total_asset:100000\n",
            "end_total_asset:132345.45581250303\n",
            "total_reward:32345.45581250303\n",
            "total_cost:  0.0\n",
            "total trades:  2392\n",
            "Sharpe:  0.4705024703019999\n",
            "previous_total_asset:100000\n",
            "end_total_asset:96081.86233114517\n",
            "total_reward:-3918.1376688548335\n",
            "total_cost:  0.0\n",
            "total trades:  1935\n",
            "Sharpe:  -0.09722573719453247\n",
            "previous_total_asset:100000\n",
            "end_total_asset:103426.04731780017\n",
            "total_reward:3426.0473178001703\n",
            "total_cost:  0.0\n",
            "total trades:  1386\n",
            "Sharpe:  0.34759039707300576\n",
            "previous_total_asset:100000\n",
            "end_total_asset:108965.55582492641\n",
            "total_reward:8965.555824926414\n",
            "total_cost:  0.0\n",
            "total trades:  1781\n",
            "Sharpe:  0.5103333134058371\n",
            "previous_total_asset:100000\n",
            "end_total_asset:107487.4527085469\n",
            "total_reward:7487.452708546902\n",
            "total_cost:  0.0\n",
            "total trades:  1933\n",
            "Sharpe:  0.3250136626551098\n",
            "previous_total_asset:100000\n",
            "end_total_asset:107716.96625036007\n",
            "total_reward:7716.96625036007\n",
            "total_cost:  0.0\n",
            "total trades:  1888\n",
            "Sharpe:  0.3782891159859724\n",
            "previous_total_asset:100000\n",
            "end_total_asset:100513.95397212484\n",
            "total_reward:513.9539721248439\n",
            "total_cost:  0.0\n",
            "total trades:  1950\n",
            "Sharpe:  0.035803844956887994\n",
            "previous_total_asset:100000\n",
            "end_total_asset:109364.88313076034\n",
            "total_reward:9364.88313076034\n",
            "total_cost:  0.0\n",
            "total trades:  1938\n",
            "Sharpe:  0.37416968356028285\n",
            "previous_total_asset:100000\n",
            "end_total_asset:109029.32326125086\n",
            "total_reward:9029.323261250858\n",
            "total_cost:  0.0\n",
            "total trades:  2003\n",
            "Sharpe:  0.38823717741743974\n"
          ],
          "name": "stdout"
        },
        {
          "output_type": "execute_result",
          "data": {
            "text/plain": [
              "<stable_baselines.acktr.acktr.ACKTR at 0x7f97e2363c50>"
            ]
          },
          "metadata": {
            "tags": []
          },
          "execution_count": 322
        }
      ]
    },
    {
      "cell_type": "markdown",
      "metadata": {
        "id": "7rZ0gtcBLIOe"
      },
      "source": [
        "Testing data"
      ]
    },
    {
      "cell_type": "code",
      "metadata": {
        "id": "sE1pJYtjKgLB"
      },
      "source": [
        "test = data_clean[(data_clean.datadate>='2019-01-01') ]\n",
        "# the index needs to start from 0\n",
        "test=test.reset_index(drop=True)"
      ],
      "execution_count": null,
      "outputs": []
    },
    {
      "cell_type": "code",
      "metadata": {
        "id": "dhve9YkdLEcK",
        "colab": {
          "base_uri": "https://localhost:8080/",
          "height": 204
        },
        "outputId": "f5233f5b-9009-4a4f-d72b-b725ad7af8b6"
      },
      "source": [
        "test.head()"
      ],
      "execution_count": null,
      "outputs": [
        {
          "output_type": "execute_result",
          "data": {
            "text/html": [
              "<div>\n",
              "<style scoped>\n",
              "    .dataframe tbody tr th:only-of-type {\n",
              "        vertical-align: middle;\n",
              "    }\n",
              "\n",
              "    .dataframe tbody tr th {\n",
              "        vertical-align: top;\n",
              "    }\n",
              "\n",
              "    .dataframe thead th {\n",
              "        text-align: right;\n",
              "    }\n",
              "</style>\n",
              "<table border=\"1\" class=\"dataframe\">\n",
              "  <thead>\n",
              "    <tr style=\"text-align: right;\">\n",
              "      <th></th>\n",
              "      <th>datadate</th>\n",
              "      <th>open</th>\n",
              "      <th>high</th>\n",
              "      <th>low</th>\n",
              "      <th>close</th>\n",
              "      <th>adjcp</th>\n",
              "      <th>volume</th>\n",
              "    </tr>\n",
              "  </thead>\n",
              "  <tbody>\n",
              "    <tr>\n",
              "      <th>0</th>\n",
              "      <td>2019-01-02</td>\n",
              "      <td>91.029999</td>\n",
              "      <td>91.389999</td>\n",
              "      <td>89.930000</td>\n",
              "      <td>91.279999</td>\n",
              "      <td>86.123672</td>\n",
              "      <td>9843900</td>\n",
              "    </tr>\n",
              "    <tr>\n",
              "      <th>1</th>\n",
              "      <td>2019-01-03</td>\n",
              "      <td>90.940002</td>\n",
              "      <td>92.500000</td>\n",
              "      <td>90.379997</td>\n",
              "      <td>90.639999</td>\n",
              "      <td>85.519829</td>\n",
              "      <td>9820200</td>\n",
              "    </tr>\n",
              "    <tr>\n",
              "      <th>2</th>\n",
              "      <td>2019-01-04</td>\n",
              "      <td>90.839996</td>\n",
              "      <td>92.489998</td>\n",
              "      <td>90.370003</td>\n",
              "      <td>92.489998</td>\n",
              "      <td>87.265327</td>\n",
              "      <td>10565700</td>\n",
              "    </tr>\n",
              "    <tr>\n",
              "      <th>3</th>\n",
              "      <td>2019-01-07</td>\n",
              "      <td>91.910004</td>\n",
              "      <td>92.500000</td>\n",
              "      <td>91.400002</td>\n",
              "      <td>92.120003</td>\n",
              "      <td>86.916237</td>\n",
              "      <td>9012500</td>\n",
              "    </tr>\n",
              "    <tr>\n",
              "      <th>4</th>\n",
              "      <td>2019-01-08</td>\n",
              "      <td>92.699997</td>\n",
              "      <td>93.089996</td>\n",
              "      <td>91.820000</td>\n",
              "      <td>92.459999</td>\n",
              "      <td>87.237015</td>\n",
              "      <td>9551300</td>\n",
              "    </tr>\n",
              "  </tbody>\n",
              "</table>\n",
              "</div>"
            ],
            "text/plain": [
              "    datadate       open       high        low      close      adjcp    volume\n",
              "0 2019-01-02  91.029999  91.389999  89.930000  91.279999  86.123672   9843900\n",
              "1 2019-01-03  90.940002  92.500000  90.379997  90.639999  85.519829   9820200\n",
              "2 2019-01-04  90.839996  92.489998  90.370003  92.489998  87.265327  10565700\n",
              "3 2019-01-07  91.910004  92.500000  91.400002  92.120003  86.916237   9012500\n",
              "4 2019-01-08  92.699997  93.089996  91.820000  92.459999  87.237015   9551300"
            ]
          },
          "metadata": {
            "tags": []
          },
          "execution_count": 324
        }
      ]
    },
    {
      "cell_type": "code",
      "metadata": {
        "id": "9mtgNQEKLLrI",
        "colab": {
          "base_uri": "https://localhost:8080/",
          "height": 204
        },
        "outputId": "9136dd23-cc1d-4a3d-957d-bdc3bc16c09c"
      },
      "source": [
        "test.tail()"
      ],
      "execution_count": null,
      "outputs": [
        {
          "output_type": "execute_result",
          "data": {
            "text/html": [
              "<div>\n",
              "<style scoped>\n",
              "    .dataframe tbody tr th:only-of-type {\n",
              "        vertical-align: middle;\n",
              "    }\n",
              "\n",
              "    .dataframe tbody tr th {\n",
              "        vertical-align: top;\n",
              "    }\n",
              "\n",
              "    .dataframe thead th {\n",
              "        text-align: right;\n",
              "    }\n",
              "</style>\n",
              "<table border=\"1\" class=\"dataframe\">\n",
              "  <thead>\n",
              "    <tr style=\"text-align: right;\">\n",
              "      <th></th>\n",
              "      <th>datadate</th>\n",
              "      <th>open</th>\n",
              "      <th>high</th>\n",
              "      <th>low</th>\n",
              "      <th>close</th>\n",
              "      <th>adjcp</th>\n",
              "      <th>volume</th>\n",
              "    </tr>\n",
              "  </thead>\n",
              "  <tbody>\n",
              "    <tr>\n",
              "      <th>547</th>\n",
              "      <td>2021-03-05</td>\n",
              "      <td>122.760002</td>\n",
              "      <td>126.330002</td>\n",
              "      <td>122.550003</td>\n",
              "      <td>125.980003</td>\n",
              "      <td>125.980003</td>\n",
              "      <td>10490900</td>\n",
              "    </tr>\n",
              "    <tr>\n",
              "      <th>548</th>\n",
              "      <td>2021-03-08</td>\n",
              "      <td>125.760002</td>\n",
              "      <td>128.899994</td>\n",
              "      <td>125.320000</td>\n",
              "      <td>127.309998</td>\n",
              "      <td>127.309998</td>\n",
              "      <td>9223200</td>\n",
              "    </tr>\n",
              "    <tr>\n",
              "      <th>549</th>\n",
              "      <td>2021-03-09</td>\n",
              "      <td>127.650002</td>\n",
              "      <td>128.919998</td>\n",
              "      <td>126.059998</td>\n",
              "      <td>126.180000</td>\n",
              "      <td>126.180000</td>\n",
              "      <td>8859300</td>\n",
              "    </tr>\n",
              "    <tr>\n",
              "      <th>550</th>\n",
              "      <td>2021-03-10</td>\n",
              "      <td>126.150002</td>\n",
              "      <td>128.419998</td>\n",
              "      <td>125.470001</td>\n",
              "      <td>127.339996</td>\n",
              "      <td>127.339996</td>\n",
              "      <td>9070400</td>\n",
              "    </tr>\n",
              "    <tr>\n",
              "      <th>551</th>\n",
              "      <td>2021-03-11</td>\n",
              "      <td>127.129997</td>\n",
              "      <td>127.849998</td>\n",
              "      <td>126.720001</td>\n",
              "      <td>126.910004</td>\n",
              "      <td>126.910004</td>\n",
              "      <td>6941500</td>\n",
              "    </tr>\n",
              "  </tbody>\n",
              "</table>\n",
              "</div>"
            ],
            "text/plain": [
              "      datadate        open        high  ...       close       adjcp    volume\n",
              "547 2021-03-05  122.760002  126.330002  ...  125.980003  125.980003  10490900\n",
              "548 2021-03-08  125.760002  128.899994  ...  127.309998  127.309998   9223200\n",
              "549 2021-03-09  127.650002  128.919998  ...  126.180000  126.180000   8859300\n",
              "550 2021-03-10  126.150002  128.419998  ...  127.339996  127.339996   9070400\n",
              "551 2021-03-11  127.129997  127.849998  ...  126.910004  126.910004   6941500\n",
              "\n",
              "[5 rows x 7 columns]"
            ]
          },
          "metadata": {
            "tags": []
          },
          "execution_count": 325
        }
      ]
    },
    {
      "cell_type": "markdown",
      "metadata": {
        "id": "XIwitd09P6By"
      },
      "source": [
        "Trading For Test Data"
      ]
    },
    {
      "cell_type": "code",
      "metadata": {
        "id": "qdNU7pBit7k8",
        "colab": {
          "base_uri": "https://localhost:8080/"
        },
        "outputId": "d1663122-79af-4139-8fd8-4e96b0309996"
      },
      "source": [
        "model = model_acktr\n",
        "env_test = DummyVecEnv([lambda: SingleStockEnv(test)])\n",
        "obs_test = env_test.reset()\n",
        "print(\"==============Model Prediction===========\")\n",
        "for i in range(len(test.index.unique())):\n",
        "    action, _states = model.predict(obs_test)\n",
        "    obs_test, rewards, dones, info = env_test.step(action)\n",
        "    env_test.render()"
      ],
      "execution_count": null,
      "outputs": [
        {
          "output_type": "stream",
          "text": [
            "==============Model Prediction===========\n",
            "previous_total_asset:100000\n",
            "end_total_asset:125267.5542324994\n",
            "total_reward:25267.554232499402\n",
            "total_cost:  0.0\n",
            "total trades:  463\n",
            "Sharpe:  1.230700401788404\n"
          ],
          "name": "stdout"
        }
      ]
    },
    {
      "cell_type": "code",
      "metadata": {
        "id": "7xVrVEd6QLq2",
        "colab": {
          "base_uri": "https://localhost:8080/"
        },
        "outputId": "aeab5228-4aff-4f81-fcb2-cb065b5bbe89"
      },
      "source": [
        "model = model_a2c\n",
        "env_test = DummyVecEnv([lambda: SingleStockEnv(test)])\n",
        "obs_test = env_test.reset()\n",
        "print(\"==============Model Prediction===========\")\n",
        "for i in range(len(test.index.unique())):\n",
        "    action, _states = model.predict(obs_test)\n",
        "    obs_test, rewards, dones, info = env_test.step(action)\n",
        "    env_test.render()"
      ],
      "execution_count": null,
      "outputs": [
        {
          "output_type": "stream",
          "text": [
            "==============Model Prediction===========\n",
            "previous_total_asset:100000\n",
            "end_total_asset:141337.7156586974\n",
            "total_reward:41337.71565869739\n",
            "total_cost:  0.0\n",
            "total trades:  551\n",
            "Sharpe:  0.7734344119529032\n"
          ],
          "name": "stdout"
        }
      ]
    },
    {
      "cell_type": "markdown",
      "metadata": {
        "id": "fnQjjrCUL2JV"
      },
      "source": [
        "Backtest Our Strategy"
      ]
    },
    {
      "cell_type": "code",
      "metadata": {
        "id": "4y0MFjX3Lkza"
      },
      "source": [
        "def get_DRL_sharpe():\n",
        "    df_total_value=pd.read_csv('account_value.csv',index_col=0)\n",
        "    df_total_value.columns = ['account_value']\n",
        "    df_total_value['daily_return']=df_total_value.pct_change(1)\n",
        "    sharpe = (252**0.5)*df_total_value['daily_return'].mean()/ \\\n",
        "    df_total_value['daily_return'].std()\n",
        "    \n",
        "    annual_return = ((df_total_value['daily_return'].mean()+1)**252-1)*100\n",
        "    print(\"annual return: \", annual_return)\n",
        "    print(\"sharpe ratio: \", sharpe)\n",
        "    return df_total_value"
      ],
      "execution_count": null,
      "outputs": []
    },
    {
      "cell_type": "code",
      "metadata": {
        "id": "mt1MqV7mNKIB"
      },
      "source": [
        "def get_test_sharpe(test):\n",
        "    test['daily_return']=test['adjcp'].pct_change(1)\n",
        "    sharpe = (252**0.5)*test['daily_return'].mean()/ \\\n",
        "    test['daily_return'].std()\n",
        "    annual_return = ((test['daily_return'].mean()+1)**252-1)*100\n",
        "    print(\"annual return: \", annual_return)\n",
        "\n",
        "    print(\"sharpe ratio: \", sharpe)\n",
        "    #return sharpe"
      ],
      "execution_count": null,
      "outputs": []
    },
    {
      "cell_type": "code",
      "metadata": {
        "id": "SqI6Sto5NNgC",
        "colab": {
          "base_uri": "https://localhost:8080/"
        },
        "outputId": "eca55de9-98a1-4470-d3b6-65244dc78f7e"
      },
      "source": [
        "df_total_value=get_DRL_sharpe()"
      ],
      "execution_count": null,
      "outputs": [
        {
          "output_type": "stream",
          "text": [
            "annual return:  20.63336413792054\n",
            "sharpe ratio:  0.773434411952904\n"
          ],
          "name": "stdout"
        }
      ]
    },
    {
      "cell_type": "code",
      "metadata": {
        "id": "Gjdb7GHuNRSD",
        "colab": {
          "base_uri": "https://localhost:8080/"
        },
        "outputId": "d5bd8063-d120-4660-97f7-c5fc309d1c63"
      },
      "source": [
        "get_test_sharpe(test)"
      ],
      "execution_count": null,
      "outputs": [
        {
          "output_type": "stream",
          "text": [
            "annual return:  23.22098770295846\n",
            "sharpe ratio:  0.8298425250574434\n"
          ],
          "name": "stdout"
        }
      ]
    },
    {
      "cell_type": "code",
      "metadata": {
        "id": "VVrPmw15NcEm"
      },
      "source": [
        "DRL_cumulative_return = (df_total_value.account_value.pct_change(1)+1).cumprod()-1"
      ],
      "execution_count": null,
      "outputs": []
    },
    {
      "cell_type": "code",
      "metadata": {
        "id": "49kgyFe4NmNG"
      },
      "source": [
        "test_cumulative_return = (test.adjcp.pct_change(1)+1).cumprod()-1"
      ],
      "execution_count": null,
      "outputs": []
    },
    {
      "cell_type": "code",
      "metadata": {
        "id": "jYyNxxylN4qg",
        "colab": {
          "base_uri": "https://localhost:8080/"
        },
        "outputId": "8ed7130b-ed51-4c0a-f53f-2e521796b392"
      },
      "source": [
        "DRL_cumulative_return"
      ],
      "execution_count": null,
      "outputs": [
        {
          "output_type": "execute_result",
          "data": {
            "text/plain": [
              "0           NaN\n",
              "1     -0.001208\n",
              "2      0.005774\n",
              "3      0.003680\n",
              "4      0.006246\n",
              "         ...   \n",
              "547    0.403745\n",
              "548    0.417791\n",
              "549    0.405213\n",
              "550    0.418125\n",
              "551    0.413377\n",
              "Name: account_value, Length: 552, dtype: float64"
            ]
          },
          "metadata": {
            "tags": []
          },
          "execution_count": 334
        }
      ]
    },
    {
      "cell_type": "code",
      "metadata": {
        "id": "kCWGhI7DRqDi",
        "colab": {
          "base_uri": "https://localhost:8080/"
        },
        "outputId": "21ae3737-c2ed-45d0-d009-a340a22d8dbd"
      },
      "source": [
        "test_cumulative_return"
      ],
      "execution_count": null,
      "outputs": [
        {
          "output_type": "execute_result",
          "data": {
            "text/plain": [
              "0           NaN\n",
              "1     -0.007011\n",
              "2      0.013256\n",
              "3      0.009203\n",
              "4      0.012927\n",
              "         ...   \n",
              "547    0.462780\n",
              "548    0.478223\n",
              "549    0.465102\n",
              "550    0.478571\n",
              "551    0.473579\n",
              "Name: adjcp, Length: 552, dtype: float64"
            ]
          },
          "metadata": {
            "tags": []
          },
          "execution_count": 335
        }
      ]
    },
    {
      "cell_type": "code",
      "metadata": {
        "id": "QYw4jXoSOr4B",
        "colab": {
          "base_uri": "https://localhost:8080/",
          "height": 508
        },
        "outputId": "42358d40-7963-48d9-abb9-a8998cd4acf6"
      },
      "source": [
        "%matplotlib inline\n",
        "fig, ax = plt.subplots(figsize=(12, 8))\n",
        "\n",
        "plt.plot(test.datadate, DRL_cumulative_return, color='red',label = \"DRL\")\n",
        "#plt.plot(test.datadate, test_cumulative_return, label = \"test\")\n",
        "plt.title(\"Cumulative Return for PG without Transaction Cost\",size= 18)\n",
        "plt.legend()\n",
        "plt.rc('legend',fontsize=15)\n",
        "plt.rc('xtick', labelsize=15)\n",
        "plt.rc('ytick', labelsize=15)"
      ],
      "execution_count": null,
      "outputs": [
        {
          "output_type": "display_data",
          "data": {
            "image/png": "[encoded data removed]",
            "text/plain": [
              "<Figure size 864x576 with 1 Axes>"
            ]
          },
          "metadata": {
            "tags": [],
            "needs_background": "light"
          }
        }
      ]
    },
    {
      "cell_type": "code",
      "metadata": {
        "id": "WmTTfaIJPL9x"
      },
      "source": [
        ""
      ],
      "execution_count": null,
      "outputs": []
    }
  ]
}